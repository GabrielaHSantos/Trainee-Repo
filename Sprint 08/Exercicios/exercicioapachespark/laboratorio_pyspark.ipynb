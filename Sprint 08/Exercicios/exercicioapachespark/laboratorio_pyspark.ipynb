{
 "cells": [
  {
   "cell_type": "markdown",
   "metadata": {},
   "source": [
    "### Etapa 1 - Preparando o Ambiente"
   ]
  },
  {
   "cell_type": "markdown",
   "metadata": {},
   "source": [
    "##### Criando um ambiente virtual e o ativando (no terminal)"
   ]
  },
  {
   "cell_type": "markdown",
   "metadata": {},
   "source": [
    "python -m venv venv\n",
    "venv\\Scripts\\activate"
   ]
  },
  {
   "cell_type": "markdown",
   "metadata": {},
   "source": [
    "#### Instalando e importando as bibliotecas necessarias (no terminal)"
   ]
  },
  {
   "cell_type": "markdown",
   "metadata": {},
   "source": [
    "##### Instalando (terminal)"
   ]
  },
  {
   "cell_type": "markdown",
   "metadata": {},
   "source": [
    "pip install pyspark\n"
   ]
  },
  {
   "cell_type": "markdown",
   "metadata": {},
   "source": [
    "##### Importando\n"
   ]
  },
  {
   "cell_type": "code",
   "execution_count": 38,
   "metadata": {},
   "outputs": [],
   "source": [
    "from pyspark.sql import SparkSession\n",
    "from pyspark import SparkContext, SQLContext\n",
    "from pyspark.sql.functions import lit, when, col, expr, udf, rand, format_number\n",
    "from pyspark.sql.types import StringType\n",
    "import random\n",
    "import os\n",
    "import pandas as pd\n"
   ]
  },
  {
   "cell_type": "markdown",
   "metadata": {},
   "source": [
    "#### Configurando o Spark Session"
   ]
  },
  {
   "cell_type": "code",
   "execution_count": 39,
   "metadata": {},
   "outputs": [],
   "source": [
    "spark = SparkSession \\\n",
    "    .builder \\\n",
    "    .master(\"local[*]\") \\\n",
    "    .appName(\"Exercício Intro\") \\\n",
    "    .getOrCreate()"
   ]
  },
  {
   "cell_type": "markdown",
   "metadata": {},
   "source": [
    "#### Carregar Arquivo nomes_aleatorios.txt, adicionando uma coluna chamada \"Nome\" e exibindo as primeiras 5 linhas"
   ]
  },
  {
   "cell_type": "code",
   "execution_count": 1,
   "metadata": {},
   "outputs": [
    {
     "ename": "NameError",
     "evalue": "name 'spark' is not defined",
     "output_type": "error",
     "traceback": [
      "\u001b[1;31m---------------------------------------------------------------------------\u001b[0m",
      "\u001b[1;31mNameError\u001b[0m                                 Traceback (most recent call last)",
      "Cell \u001b[1;32mIn[1], line 3\u001b[0m\n\u001b[0;32m      1\u001b[0m caminho_arquivo \u001b[38;5;241m=\u001b[39m \u001b[38;5;124m\"\u001b[39m\u001b[38;5;124m../exerciciogerardados/nomes_aleatorios.txt\u001b[39m\u001b[38;5;124m\"\u001b[39m\n\u001b[1;32m----> 3\u001b[0m df_nomes \u001b[38;5;241m=\u001b[39m spark\u001b[38;5;241m.\u001b[39mread\u001b[38;5;241m.\u001b[39mcsv(caminho_arquivo, header\u001b[38;5;241m=\u001b[39m\u001b[38;5;28;01mFalse\u001b[39;00m, inferSchema\u001b[38;5;241m=\u001b[39m\u001b[38;5;28;01mTrue\u001b[39;00m) \\\n\u001b[0;32m      4\u001b[0m     \u001b[38;5;241m.\u001b[39mtoDF(\u001b[38;5;124m\"\u001b[39m\u001b[38;5;124mNome\u001b[39m\u001b[38;5;124m\"\u001b[39m)  \n\u001b[0;32m      6\u001b[0m df_nomes\u001b[38;5;241m.\u001b[39mshow(\u001b[38;5;241m5\u001b[39m)\n",
      "\u001b[1;31mNameError\u001b[0m: name 'spark' is not defined"
     ]
    }
   ],
   "source": [
    "caminho_arquivo = \"../exerciciogerardados/nomes_aleatorios.txt\"\n",
    "\n",
    "df_nomes = spark.read.csv(caminho_arquivo, header=False, inferSchema=True) \\\n",
    "    .toDF(\"Nome\")  \n",
    "\n",
    "df_nomes.show(5)\n"
   ]
  },
  {
   "cell_type": "markdown",
   "metadata": {},
   "source": [
    "Rsultado:\n",
    "<p>\n",
    "\n",
    "![etapa1](../../Evidencias/exercicioapachespark/carregaarquivonome.png)"
   ]
  },
  {
   "cell_type": "markdown",
   "metadata": {},
   "source": [
    "### Etapa 2: Renomeando Coluna e Mostrando Schema"
   ]
  },
  {
   "cell_type": "code",
   "execution_count": 41,
   "metadata": {},
   "outputs": [
    {
     "name": "stdout",
     "output_type": "stream",
     "text": [
      "root\n",
      " |-- Nomes: string (nullable = true)\n",
      "\n",
      "+-----------------+\n",
      "|            Nomes|\n",
      "+-----------------+\n",
      "|   Frances Bennet|\n",
      "|    Jamie Russell|\n",
      "|   Edward Kistler|\n",
      "|    Sheila Maurer|\n",
      "| Donald Golightly|\n",
      "|       David Gray|\n",
      "|      Joy Bennett|\n",
      "|      Paul Kriese|\n",
      "|Berniece Ornellas|\n",
      "|    Brian Farrell|\n",
      "+-----------------+\n",
      "only showing top 10 rows\n",
      "\n"
     ]
    }
   ],
   "source": [
    "# Renomeando a coluna\n",
    "from pyspark.sql.functions import col\n",
    "\n",
    "df_nomes = df_nomes.withColumnRenamed(\"nome\", \"Nomes\")\n",
    "\n",
    "# Mostrando o Schema e 10 linhas\n",
    "df_nomes.printSchema()\n",
    "\n",
    "df_nomes.show(10)"
   ]
  },
  {
   "cell_type": "markdown",
   "metadata": {},
   "source": [
    "Resultado:\n",
    "\n",
    "<p>\n",
    "\n",
    "![etapa2](../../Evidencias/exercicioapachespark/renomeandocolunaemostrandoschema.png)"
   ]
  },
  {
   "cell_type": "markdown",
   "metadata": {},
   "source": [
    "### Etapa 3: Adicionando a Coluna Escolaridade "
   ]
  },
  {
   "cell_type": "code",
   "execution_count": 42,
   "metadata": {},
   "outputs": [
    {
     "name": "stdout",
     "output_type": "stream",
     "text": [
      "+----------------+------------+\n",
      "|           Nomes|Escolaridade|\n",
      "+----------------+------------+\n",
      "|  Frances Bennet|    Superior|\n",
      "|   Jamie Russell|       Médio|\n",
      "|  Edward Kistler| Fundamental|\n",
      "|   Sheila Maurer|       Médio|\n",
      "|Donald Golightly| Fundamental|\n",
      "+----------------+------------+\n",
      "only showing top 5 rows\n",
      "\n"
     ]
    }
   ],
   "source": [
    "# Lista de valores possíveis\n",
    "escolaridade = [\"Fundamental\", \"Médio\", \"Superior\"]\n",
    "\n",
    "# Função UDF para gerar valores aleatórios\n",
    "def gerar_escolaridade():\n",
    "    return random.choice(escolaridade)\n",
    "\n",
    "# Registrando UDF\n",
    "escolaridade_udf = udf(gerar_escolaridade, StringType())\n",
    "\n",
    "# Adicionando coluna\n",
    "df_nomes = df_nomes.withColumn(\"Escolaridade\", escolaridade_udf())\n",
    "df_nomes.show(5)"
   ]
  },
  {
   "cell_type": "markdown",
   "metadata": {},
   "source": [
    "Resultado: \n",
    "\n",
    "<p>\n",
    "\n",
    "![etapa3](../../Evidencias/exercicioapachespark/escolaridade.png)"
   ]
  },
  {
   "cell_type": "markdown",
   "metadata": {},
   "source": [
    "### Etapa 4: Adicionando a Coluna País "
   ]
  },
  {
   "cell_type": "code",
   "execution_count": 43,
   "metadata": {},
   "outputs": [
    {
     "name": "stdout",
     "output_type": "stream",
     "text": [
      "+----------------+------------+---------------+\n",
      "|           Nomes|Escolaridade|           País|\n",
      "+----------------+------------+---------------+\n",
      "|  Frances Bennet| Fundamental|      Venezuela|\n",
      "|   Jamie Russell| Fundamental|         Guiana|\n",
      "|  Edward Kistler|       Médio|       Paraguai|\n",
      "|   Sheila Maurer|       Médio|Guiana Francesa|\n",
      "|Donald Golightly|    Superior|Guiana Francesa|\n",
      "+----------------+------------+---------------+\n",
      "only showing top 5 rows\n",
      "\n"
     ]
    }
   ],
   "source": [
    "paises = [\"Argentina\", \"Bolívia\", \"Brasil\", \"Chile\", \"Colômbia\", \"Equador\", \"Guiana\", \"Paraguai\", \"Peru\", \"Suriname\", \"Uruguai\", \"Venezuela\", \"Guiana Francesa\"]\n",
    "\n",
    "# Gerando a coluna de maneira aleatoria\n",
    "\n",
    "df_nomes = df_nomes.withColumn(\"País\", expr(f\"element_at(array({', '.join([f'\\'{p}\\'' for p in paises])}), int(rand() * {len(paises)} + 1))\"))\n",
    "df_nomes.show(5)"
   ]
  },
  {
   "cell_type": "markdown",
   "metadata": {},
   "source": [
    "Resultado:\n",
    "\n",
    "<p>\n",
    "\n",
    "![etapa4](../../Evidencias/exercicioapachespark/addcolunapais.png)"
   ]
  },
  {
   "cell_type": "markdown",
   "metadata": {},
   "source": [
    "### Etapa 5: Adicionar Coluna AnoNascimento "
   ]
  },
  {
   "cell_type": "code",
   "execution_count": 44,
   "metadata": {},
   "outputs": [
    {
     "name": "stdout",
     "output_type": "stream",
     "text": [
      "+----------------+------------+---------------+-------------+\n",
      "|           Nomes|Escolaridade|           País|AnoNascimento|\n",
      "+----------------+------------+---------------+-------------+\n",
      "|  Frances Bennet| Fundamental|      Venezuela|         1966|\n",
      "|   Jamie Russell|       Médio|         Guiana|         1968|\n",
      "|  Edward Kistler| Fundamental|       Paraguai|         1988|\n",
      "|   Sheila Maurer|    Superior|Guiana Francesa|         1957|\n",
      "|Donald Golightly| Fundamental|Guiana Francesa|         1972|\n",
      "+----------------+------------+---------------+-------------+\n",
      "only showing top 5 rows\n",
      "\n"
     ]
    }
   ],
   "source": [
    "# Adicionando a coluna AnoNascimento\n",
    "df_nomes = df_nomes.withColumn(\"AnoNascimento\", expr(\"cast(1945 + floor(rand() * (2010 - 1945 + 1)) as int)\"))\n",
    "df_nomes.show(5)"
   ]
  },
  {
   "cell_type": "markdown",
   "metadata": {},
   "source": [
    "Resultado:\n",
    "\n",
    "<p>\n",
    "\n",
    "![etapa5](../../Evidencias/exercicioapachespark/addcolunaanonasc.png)"
   ]
  },
  {
   "cell_type": "markdown",
   "metadata": {},
   "source": [
    "### Etapa 6: Selecionando as Pessoas Nascidas no Século 21"
   ]
  },
  {
   "cell_type": "code",
   "execution_count": 45,
   "metadata": {},
   "outputs": [
    {
     "name": "stdout",
     "output_type": "stream",
     "text": [
      "+---------------+------------+--------+-------------+\n",
      "|          Nomes|Escolaridade|    País|AnoNascimento|\n",
      "+---------------+------------+--------+-------------+\n",
      "|  Tracy Herring| Fundamental|    Peru|         2005|\n",
      "|   Leroy Strahl| Fundamental|Suriname|         2007|\n",
      "|    Albert Leef|    Superior|   Chile|         2005|\n",
      "|Helen Blackwell| Fundamental|Paraguai|         2002|\n",
      "| Gabriel Colyer| Fundamental|Suriname|         2005|\n",
      "|       Mary Lee|       Médio|   Chile|         2009|\n",
      "|     Anita Ross| Fundamental| Equador|         2000|\n",
      "|    Lisa Baxley|       Médio|  Guiana|         2010|\n",
      "|   Juliet Liles| Fundamental|  Brasil|         2007|\n",
      "|      Ana Baker|       Médio|Paraguai|         2010|\n",
      "+---------------+------------+--------+-------------+\n",
      "only showing top 10 rows\n",
      "\n"
     ]
    }
   ],
   "source": [
    "df_select = df_nomes.filter(col(\"AnoNascimento\") >= 2000)\n",
    "df_select.show(10)"
   ]
  },
  {
   "cell_type": "markdown",
   "metadata": {},
   "source": [
    "Resultado:\n",
    "\n",
    "<p>\n",
    "\n",
    "![etapa6](../../Evidencias/exercicioapachespark/selecionandopessoassec21.png)"
   ]
  },
  {
   "cell_type": "markdown",
   "metadata": {},
   "source": [
    "### Etapa 7: Seleção Utilizando Spark SQL"
   ]
  },
  {
   "cell_type": "code",
   "execution_count": 46,
   "metadata": {},
   "outputs": [
    {
     "name": "stdout",
     "output_type": "stream",
     "text": [
      "+---------------+------------+--------+-------------+\n",
      "|          Nomes|Escolaridade|    País|AnoNascimento|\n",
      "+---------------+------------+--------+-------------+\n",
      "|  Tracy Herring|    Superior|    Peru|         2005|\n",
      "|   Leroy Strahl|    Superior|Suriname|         2007|\n",
      "|    Albert Leef|    Superior|   Chile|         2005|\n",
      "|Helen Blackwell| Fundamental|Paraguai|         2002|\n",
      "| Gabriel Colyer|    Superior|Suriname|         2005|\n",
      "|       Mary Lee|       Médio|   Chile|         2009|\n",
      "|     Anita Ross|    Superior| Equador|         2000|\n",
      "|    Lisa Baxley| Fundamental|  Guiana|         2010|\n",
      "|   Juliet Liles| Fundamental|  Brasil|         2007|\n",
      "|      Ana Baker|       Médio|Paraguai|         2010|\n",
      "+---------------+------------+--------+-------------+\n",
      "only showing top 10 rows\n",
      "\n"
     ]
    }
   ],
   "source": [
    "df_nomes.createOrReplaceTempView(\"pessoas\")\n",
    "df_select_sql = spark.sql(\"SELECT * FROM pessoas WHERE AnoNascimento >= 2000\")\n",
    "df_select_sql.show(10)"
   ]
  },
  {
   "cell_type": "markdown",
   "metadata": {},
   "source": [
    "![etapa7](../../Evidencias/exercicioapachespark/requesql.png)"
   ]
  },
  {
   "cell_type": "markdown",
   "metadata": {},
   "source": [
    "### Etapa 8: Contando Millennials com Filter"
   ]
  },
  {
   "cell_type": "code",
   "execution_count": 47,
   "metadata": {},
   "outputs": [
    {
     "name": "stdout",
     "output_type": "stream",
     "text": [
      "Millennials: 226,922\n"
     ]
    }
   ],
   "source": [
    "millennials_count = df_nomes.filter((col(\"AnoNascimento\") >= 1980) & (col(\"AnoNascimento\") <= 1994)).count()\n",
    "\n",
    "print(f\"Millennials: {millennials_count:,}\")\n"
   ]
  },
  {
   "cell_type": "markdown",
   "metadata": {},
   "source": [
    "Resultado:\n",
    "\n",
    "<p>\n",
    "\n",
    "![etapa8](../../Evidencias/exercicioapachespark/countmillenials.png)"
   ]
  },
  {
   "cell_type": "markdown",
   "metadata": {},
   "source": [
    "### Etapa 9: Contando os Millennials com Spark SQL"
   ]
  },
  {
   "cell_type": "code",
   "execution_count": 48,
   "metadata": {},
   "outputs": [
    {
     "name": "stdout",
     "output_type": "stream",
     "text": [
      "+-----------------------+\n",
      "|Contador dos Millenials|\n",
      "+-----------------------+\n",
      "|                226,922|\n",
      "+-----------------------+\n",
      "\n"
     ]
    }
   ],
   "source": [
    "millennials_count_sql = spark.sql(\"SELECT COUNT(*) as `Contador dos Millenials` FROM pessoas WHERE AnoNascimento >= 1980 AND AnoNascimento <= 1994\")\n",
    "\n",
    "# Formatando o número\n",
    "millennials_count_sql = millennials_count_sql.select(format_number(\"`Contador dos Millenials`\", 0).alias(\"Contador dos Millenials\"))\n",
    "millennials_count_sql.show()\n"
   ]
  },
  {
   "cell_type": "markdown",
   "metadata": {},
   "source": [
    "![etapa9](../../Evidencias/exercicioapachespark/ccontandocmsql.png)"
   ]
  },
  {
   "cell_type": "markdown",
   "metadata": {},
   "source": [
    "### Etapa 10: Distribuição Populacional por País e Geração\n",
    "\n"
   ]
  },
  {
   "cell_type": "code",
   "execution_count": 49,
   "metadata": {},
   "outputs": [
    {
     "name": "stderr",
     "output_type": "stream",
     "text": [
      "                                                                                \r"
     ]
    },
    {
     "data": {
      "text/html": [
       "<div>\n",
       "<style scoped>\n",
       "    .dataframe tbody tr th:only-of-type {\n",
       "        vertical-align: middle;\n",
       "    }\n",
       "\n",
       "    .dataframe tbody tr th {\n",
       "        vertical-align: top;\n",
       "    }\n",
       "\n",
       "    .dataframe thead th {\n",
       "        text-align: right;\n",
       "    }\n",
       "</style>\n",
       "<table border=\"1\" class=\"dataframe\">\n",
       "  <thead>\n",
       "    <tr style=\"text-align: right;\">\n",
       "      <th></th>\n",
       "      <th>País</th>\n",
       "      <th>Geração</th>\n",
       "      <th>Contagem</th>\n",
       "    </tr>\n",
       "  </thead>\n",
       "  <tbody>\n",
       "    <tr>\n",
       "      <th>0</th>\n",
       "      <td>Argentina</td>\n",
       "      <td>Baby Boomers</td>\n",
       "      <td>23,574</td>\n",
       "    </tr>\n",
       "    <tr>\n",
       "      <th>1</th>\n",
       "      <td>Argentina</td>\n",
       "      <td>Geração X</td>\n",
       "      <td>17,633</td>\n",
       "    </tr>\n",
       "    <tr>\n",
       "      <th>2</th>\n",
       "      <td>Argentina</td>\n",
       "      <td>Geração Z</td>\n",
       "      <td>18,655</td>\n",
       "    </tr>\n",
       "    <tr>\n",
       "      <th>3</th>\n",
       "      <td>Argentina</td>\n",
       "      <td>Millennials</td>\n",
       "      <td>17,513</td>\n",
       "    </tr>\n",
       "    <tr>\n",
       "      <th>4</th>\n",
       "      <td>Bolívia</td>\n",
       "      <td>Baby Boomers</td>\n",
       "      <td>23,194</td>\n",
       "    </tr>\n",
       "    <tr>\n",
       "      <th>5</th>\n",
       "      <td>Bolívia</td>\n",
       "      <td>Geração X</td>\n",
       "      <td>17,519</td>\n",
       "    </tr>\n",
       "    <tr>\n",
       "      <th>6</th>\n",
       "      <td>Bolívia</td>\n",
       "      <td>Geração Z</td>\n",
       "      <td>18,640</td>\n",
       "    </tr>\n",
       "    <tr>\n",
       "      <th>7</th>\n",
       "      <td>Bolívia</td>\n",
       "      <td>Millennials</td>\n",
       "      <td>17,413</td>\n",
       "    </tr>\n",
       "    <tr>\n",
       "      <th>8</th>\n",
       "      <td>Brasil</td>\n",
       "      <td>Baby Boomers</td>\n",
       "      <td>22,868</td>\n",
       "    </tr>\n",
       "    <tr>\n",
       "      <th>9</th>\n",
       "      <td>Brasil</td>\n",
       "      <td>Geração X</td>\n",
       "      <td>17,444</td>\n",
       "    </tr>\n",
       "    <tr>\n",
       "      <th>10</th>\n",
       "      <td>Brasil</td>\n",
       "      <td>Geração Z</td>\n",
       "      <td>18,860</td>\n",
       "    </tr>\n",
       "    <tr>\n",
       "      <th>11</th>\n",
       "      <td>Brasil</td>\n",
       "      <td>Millennials</td>\n",
       "      <td>17,466</td>\n",
       "    </tr>\n",
       "    <tr>\n",
       "      <th>12</th>\n",
       "      <td>Chile</td>\n",
       "      <td>Baby Boomers</td>\n",
       "      <td>23,282</td>\n",
       "    </tr>\n",
       "    <tr>\n",
       "      <th>13</th>\n",
       "      <td>Chile</td>\n",
       "      <td>Geração X</td>\n",
       "      <td>17,290</td>\n",
       "    </tr>\n",
       "    <tr>\n",
       "      <th>14</th>\n",
       "      <td>Chile</td>\n",
       "      <td>Geração Z</td>\n",
       "      <td>18,672</td>\n",
       "    </tr>\n",
       "    <tr>\n",
       "      <th>15</th>\n",
       "      <td>Chile</td>\n",
       "      <td>Millennials</td>\n",
       "      <td>17,294</td>\n",
       "    </tr>\n",
       "    <tr>\n",
       "      <th>16</th>\n",
       "      <td>Colômbia</td>\n",
       "      <td>Baby Boomers</td>\n",
       "      <td>23,030</td>\n",
       "    </tr>\n",
       "    <tr>\n",
       "      <th>17</th>\n",
       "      <td>Colômbia</td>\n",
       "      <td>Geração X</td>\n",
       "      <td>17,623</td>\n",
       "    </tr>\n",
       "    <tr>\n",
       "      <th>18</th>\n",
       "      <td>Colômbia</td>\n",
       "      <td>Geração Z</td>\n",
       "      <td>18,656</td>\n",
       "    </tr>\n",
       "    <tr>\n",
       "      <th>19</th>\n",
       "      <td>Colômbia</td>\n",
       "      <td>Millennials</td>\n",
       "      <td>17,223</td>\n",
       "    </tr>\n",
       "    <tr>\n",
       "      <th>20</th>\n",
       "      <td>Equador</td>\n",
       "      <td>Baby Boomers</td>\n",
       "      <td>23,265</td>\n",
       "    </tr>\n",
       "    <tr>\n",
       "      <th>21</th>\n",
       "      <td>Equador</td>\n",
       "      <td>Geração X</td>\n",
       "      <td>17,388</td>\n",
       "    </tr>\n",
       "    <tr>\n",
       "      <th>22</th>\n",
       "      <td>Equador</td>\n",
       "      <td>Geração Z</td>\n",
       "      <td>18,493</td>\n",
       "    </tr>\n",
       "    <tr>\n",
       "      <th>23</th>\n",
       "      <td>Equador</td>\n",
       "      <td>Millennials</td>\n",
       "      <td>17,491</td>\n",
       "    </tr>\n",
       "    <tr>\n",
       "      <th>24</th>\n",
       "      <td>Guiana</td>\n",
       "      <td>Baby Boomers</td>\n",
       "      <td>23,272</td>\n",
       "    </tr>\n",
       "    <tr>\n",
       "      <th>25</th>\n",
       "      <td>Guiana</td>\n",
       "      <td>Geração X</td>\n",
       "      <td>17,224</td>\n",
       "    </tr>\n",
       "    <tr>\n",
       "      <th>26</th>\n",
       "      <td>Guiana</td>\n",
       "      <td>Geração Z</td>\n",
       "      <td>18,673</td>\n",
       "    </tr>\n",
       "    <tr>\n",
       "      <th>27</th>\n",
       "      <td>Guiana</td>\n",
       "      <td>Millennials</td>\n",
       "      <td>17,634</td>\n",
       "    </tr>\n",
       "    <tr>\n",
       "      <th>28</th>\n",
       "      <td>Guiana Francesa</td>\n",
       "      <td>Baby Boomers</td>\n",
       "      <td>23,168</td>\n",
       "    </tr>\n",
       "    <tr>\n",
       "      <th>29</th>\n",
       "      <td>Guiana Francesa</td>\n",
       "      <td>Geração X</td>\n",
       "      <td>17,228</td>\n",
       "    </tr>\n",
       "    <tr>\n",
       "      <th>30</th>\n",
       "      <td>Guiana Francesa</td>\n",
       "      <td>Geração Z</td>\n",
       "      <td>18,887</td>\n",
       "    </tr>\n",
       "    <tr>\n",
       "      <th>31</th>\n",
       "      <td>Guiana Francesa</td>\n",
       "      <td>Millennials</td>\n",
       "      <td>17,263</td>\n",
       "    </tr>\n",
       "    <tr>\n",
       "      <th>32</th>\n",
       "      <td>Paraguai</td>\n",
       "      <td>Baby Boomers</td>\n",
       "      <td>23,290</td>\n",
       "    </tr>\n",
       "    <tr>\n",
       "      <th>33</th>\n",
       "      <td>Paraguai</td>\n",
       "      <td>Geração X</td>\n",
       "      <td>17,788</td>\n",
       "    </tr>\n",
       "    <tr>\n",
       "      <th>34</th>\n",
       "      <td>Paraguai</td>\n",
       "      <td>Geração Z</td>\n",
       "      <td>18,620</td>\n",
       "    </tr>\n",
       "    <tr>\n",
       "      <th>35</th>\n",
       "      <td>Paraguai</td>\n",
       "      <td>Millennials</td>\n",
       "      <td>17,445</td>\n",
       "    </tr>\n",
       "    <tr>\n",
       "      <th>36</th>\n",
       "      <td>Peru</td>\n",
       "      <td>Baby Boomers</td>\n",
       "      <td>23,393</td>\n",
       "    </tr>\n",
       "    <tr>\n",
       "      <th>37</th>\n",
       "      <td>Peru</td>\n",
       "      <td>Geração X</td>\n",
       "      <td>17,614</td>\n",
       "    </tr>\n",
       "    <tr>\n",
       "      <th>38</th>\n",
       "      <td>Peru</td>\n",
       "      <td>Geração Z</td>\n",
       "      <td>18,843</td>\n",
       "    </tr>\n",
       "    <tr>\n",
       "      <th>39</th>\n",
       "      <td>Peru</td>\n",
       "      <td>Millennials</td>\n",
       "      <td>17,598</td>\n",
       "    </tr>\n",
       "    <tr>\n",
       "      <th>40</th>\n",
       "      <td>Suriname</td>\n",
       "      <td>Baby Boomers</td>\n",
       "      <td>23,321</td>\n",
       "    </tr>\n",
       "    <tr>\n",
       "      <th>41</th>\n",
       "      <td>Suriname</td>\n",
       "      <td>Geração X</td>\n",
       "      <td>17,367</td>\n",
       "    </tr>\n",
       "    <tr>\n",
       "      <th>42</th>\n",
       "      <td>Suriname</td>\n",
       "      <td>Geração Z</td>\n",
       "      <td>18,685</td>\n",
       "    </tr>\n",
       "    <tr>\n",
       "      <th>43</th>\n",
       "      <td>Suriname</td>\n",
       "      <td>Millennials</td>\n",
       "      <td>17,513</td>\n",
       "    </tr>\n",
       "    <tr>\n",
       "      <th>44</th>\n",
       "      <td>Uruguai</td>\n",
       "      <td>Baby Boomers</td>\n",
       "      <td>23,547</td>\n",
       "    </tr>\n",
       "    <tr>\n",
       "      <th>45</th>\n",
       "      <td>Uruguai</td>\n",
       "      <td>Geração X</td>\n",
       "      <td>17,488</td>\n",
       "    </tr>\n",
       "    <tr>\n",
       "      <th>46</th>\n",
       "      <td>Uruguai</td>\n",
       "      <td>Geração Z</td>\n",
       "      <td>18,652</td>\n",
       "    </tr>\n",
       "    <tr>\n",
       "      <th>47</th>\n",
       "      <td>Uruguai</td>\n",
       "      <td>Millennials</td>\n",
       "      <td>17,618</td>\n",
       "    </tr>\n",
       "    <tr>\n",
       "      <th>48</th>\n",
       "      <td>Venezuela</td>\n",
       "      <td>Baby Boomers</td>\n",
       "      <td>23,343</td>\n",
       "    </tr>\n",
       "    <tr>\n",
       "      <th>49</th>\n",
       "      <td>Venezuela</td>\n",
       "      <td>Geração X</td>\n",
       "      <td>17,758</td>\n",
       "    </tr>\n",
       "    <tr>\n",
       "      <th>50</th>\n",
       "      <td>Venezuela</td>\n",
       "      <td>Geração Z</td>\n",
       "      <td>18,831</td>\n",
       "    </tr>\n",
       "    <tr>\n",
       "      <th>51</th>\n",
       "      <td>Venezuela</td>\n",
       "      <td>Millennials</td>\n",
       "      <td>17,451</td>\n",
       "    </tr>\n",
       "  </tbody>\n",
       "</table>\n",
       "</div>"
      ],
      "text/plain": [
       "               País       Geração Contagem\n",
       "0         Argentina  Baby Boomers   23,574\n",
       "1         Argentina     Geração X   17,633\n",
       "2         Argentina     Geração Z   18,655\n",
       "3         Argentina   Millennials   17,513\n",
       "4           Bolívia  Baby Boomers   23,194\n",
       "5           Bolívia     Geração X   17,519\n",
       "6           Bolívia     Geração Z   18,640\n",
       "7           Bolívia   Millennials   17,413\n",
       "8            Brasil  Baby Boomers   22,868\n",
       "9            Brasil     Geração X   17,444\n",
       "10           Brasil     Geração Z   18,860\n",
       "11           Brasil   Millennials   17,466\n",
       "12            Chile  Baby Boomers   23,282\n",
       "13            Chile     Geração X   17,290\n",
       "14            Chile     Geração Z   18,672\n",
       "15            Chile   Millennials   17,294\n",
       "16         Colômbia  Baby Boomers   23,030\n",
       "17         Colômbia     Geração X   17,623\n",
       "18         Colômbia     Geração Z   18,656\n",
       "19         Colômbia   Millennials   17,223\n",
       "20          Equador  Baby Boomers   23,265\n",
       "21          Equador     Geração X   17,388\n",
       "22          Equador     Geração Z   18,493\n",
       "23          Equador   Millennials   17,491\n",
       "24           Guiana  Baby Boomers   23,272\n",
       "25           Guiana     Geração X   17,224\n",
       "26           Guiana     Geração Z   18,673\n",
       "27           Guiana   Millennials   17,634\n",
       "28  Guiana Francesa  Baby Boomers   23,168\n",
       "29  Guiana Francesa     Geração X   17,228\n",
       "30  Guiana Francesa     Geração Z   18,887\n",
       "31  Guiana Francesa   Millennials   17,263\n",
       "32         Paraguai  Baby Boomers   23,290\n",
       "33         Paraguai     Geração X   17,788\n",
       "34         Paraguai     Geração Z   18,620\n",
       "35         Paraguai   Millennials   17,445\n",
       "36             Peru  Baby Boomers   23,393\n",
       "37             Peru     Geração X   17,614\n",
       "38             Peru     Geração Z   18,843\n",
       "39             Peru   Millennials   17,598\n",
       "40         Suriname  Baby Boomers   23,321\n",
       "41         Suriname     Geração X   17,367\n",
       "42         Suriname     Geração Z   18,685\n",
       "43         Suriname   Millennials   17,513\n",
       "44          Uruguai  Baby Boomers   23,547\n",
       "45          Uruguai     Geração X   17,488\n",
       "46          Uruguai     Geração Z   18,652\n",
       "47          Uruguai   Millennials   17,618\n",
       "48        Venezuela  Baby Boomers   23,343\n",
       "49        Venezuela     Geração X   17,758\n",
       "50        Venezuela     Geração Z   18,831\n",
       "51        Venezuela   Millennials   17,451"
      ]
     },
     "metadata": {},
     "output_type": "display_data"
    }
   ],
   "source": [
    "# Adicionando a coluna Geração\n",
    "df_nomes = df_nomes.withColumn(\"Geração\", \n",
    "    when((col(\"AnoNascimento\") >= 1944) & (col(\"AnoNascimento\") <= 1964), \"Baby Boomers\")\n",
    "    .when((col(\"AnoNascimento\") >= 1965) & (col(\"AnoNascimento\") <= 1979), \"Geração X\")\n",
    "    .when((col(\"AnoNascimento\") >= 1980) & (col(\"AnoNascimento\") <= 1994), \"Millennials\")\n",
    "    .when((col(\"AnoNascimento\") >= 1995) & (col(\"AnoNascimento\") <= 2015), \"Geração Z\")\n",
    ")\n",
    "# Contagem por País e Geração\n",
    "df_contagem = df_nomes.groupBy(\"País\", \"Geração\").count().orderBy(\"País\", \"Geração\")\n",
    "\n",
    "# Formatar a coluna de contagem com vírgulas\n",
    "df_contagem_formatado = df_contagem.select(\n",
    "    \"País\", \n",
    "    \"Geração\", \n",
    "    format_number(\"count\", 0).alias(\"Contagem\")\n",
    ")\n",
    "\n",
    "# Convertendo para Pandas e exibindo\n",
    "df_contagem_pd = df_contagem_formatado.toPandas()\n",
    "display(df_contagem_pd)\n"
   ]
  },
  {
   "cell_type": "markdown",
   "metadata": {},
   "source": [
    "Resultado:\n",
    "\n",
    "<p>\n",
    "\n",
    "![etapa10pt1](../../Evidencias/exercicioapachespark/distpop1.png)\n",
    "\n",
    "![etapa10pt2](../../Evidencias/exercicioapachespark/distpop2.png)\n",
    "\n",
    "![etapa10pt3](../../Evidencias/exercicioapachespark/distpop3.png)"
   ]
  }
 ],
 "metadata": {
  "kernelspec": {
   "display_name": "base",
   "language": "python",
   "name": "python3"
  },
  "language_info": {
   "codemirror_mode": {
    "name": "ipython",
    "version": 3
   },
   "file_extension": ".py",
   "mimetype": "text/x-python",
   "name": "python",
   "nbconvert_exporter": "python",
   "pygments_lexer": "ipython3",
   "version": "3.12.3"
  }
 },
 "nbformat": 4,
 "nbformat_minor": 2
}
